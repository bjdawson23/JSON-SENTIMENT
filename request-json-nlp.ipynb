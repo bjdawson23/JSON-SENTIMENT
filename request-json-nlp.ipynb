{
 "cells": [
  {
   "cell_type": "markdown",
   "metadata": {},
   "source": [
    "# Web Mining and Applied NLP (44-620)\n",
    "\n",
    "## Request, JSON and NLP\n",
    "\n",
    "### Student Name: Branton Dawson  [JSON Sentiment](https://github.com/bjdawson23/JSON-SENTIMENT)\n",
    "\n",
    "Perform the tasks described in the Markdown cells below.  When you have completed the assignment make sure your code cells have all been run (and have output beneath them) and ensure you have committed and pushed ALL of your changes to your assignment repository.\n"
   ]
  },
  {
   "cell_type": "markdown",
   "metadata": {},
   "source": [
    "#### Question 1. The following code accesses the [lyrics.ovh](https://lyricsovh.docs.apiary.io/#reference/0/lyrics-of-a-song/search) public api, searches for the lyrics of a song, and stores it in a dictionary object.  Write the resulting json to a file (either a JSON file or a pickle file; you choose). You will read in the contents of this file for future questions so we do not need to frequently access the API."
   ]
  },
  {
   "cell_type": "code",
   "execution_count": null,
   "metadata": {},
   "outputs": [],
   "source": [
    "# Create and activate a Python virtual environment. \n",
    "# Before starting the project, try all these imports FIRST\n",
    "# Address any errors you get running this code cell \n",
    "# by installing the necessary packages into your active Python environment.\n",
    "# Try to resolve issues using your materials and the web.\n",
    "# If that doesn't work, ask for help in the discussion forums.\n",
    "# You can't complete the exercises until you import these - start early! \n",
    "# We also import json and pickle (included in the Python Standard Library).\n",
    "\n",
    "import json\n",
    "import pickle\n",
    "\n",
    "import requests\n",
    "import spacy\n",
    "from spacytextblob.spacytextblob import SpacyTextBlob\n",
    "\n",
    "print('All prereqs installed.')\n",
    "!pip list\n"
   ]
  },
  {
   "cell_type": "code",
   "execution_count": null,
   "metadata": {},
   "outputs": [],
   "source": [
    "import requests\n",
    "import json\n",
    "\n",
    "result = json.loads(requests.get('https://api.lyrics.ovh/v1/They Might Be Giants/Birdhouse in your soul').text)\n"
   ]
  },
  {
   "cell_type": "markdown",
   "metadata": {},
   "source": [
    "#### Question 2. Read in the contents of your file.  Print the lyrics of the song (not the entire dictionary!) and use spaCyTextBlob to perform sentiment analysis on the lyrics.  Print the polarity score of the sentiment analysis.  Given that the range of the polarity score is `[-1.0,1.0]` which corresponds to how positive or negative the text in question is, do you think the lyrics have a more positive or negative connotaion?  Answer this question in a comment in your code cell."
   ]
  },
  {
   "cell_type": "code",
   "execution_count": null,
   "metadata": {},
   "outputs": [],
   "source": [
    "import json\n",
    "import spacy\n",
    "from spacytextblob.spacytextblob import SpacyTextBlob\n",
    "\n",
    "# Load result from file if not already defined\n",
    "try:\n",
    "\tresult\n",
    "except NameError:\n",
    "\twith open(\"birdhouse.json\", \"r\", encoding=\"utf-8\") as f:\n",
    "\t\tresult = json.load(f)\n",
    "\n",
    "# Print the lyrics\n",
    "print(result['lyrics'])\n",
    "\n",
    "# Load the English NLP model\n",
    "nlp = spacy.load(\"en_core_web_sm\")\n",
    "# Add the SpacyTextBlob component to the pipeline if not already present\n",
    "if \"spacytextblob\" not in nlp.pipe_names:\n",
    "\tnlp.add_pipe(\"spacytextblob\")\n",
    "# Process the lyrics text\n",
    "lyrics = result['lyrics']\n",
    "doc = nlp(lyrics)\n",
    "# use the SpacyTextBlob component to get sentiment\n",
    "sentiment = doc._.blob.sentiment\n",
    "# Print the sentiment\n",
    "print(f\"Polarity: {sentiment.polarity}, Subjectivity: {sentiment.subjectivity}\")\n",
    "\n",
    "# The polarity score ranges from -1.0 (negative) to 1.0 (positive).\n",
    "# Based on the score, you can comment on whether the lyrics are more positive or negative.\n"
   ]
  },
  {
   "cell_type": "markdown",
   "metadata": {},
   "source": [
    "#### Question 3. Write a function that takes an artist, song, and filename, accesses the lyrics.ovh api to get the song lyrics, and writes the results to the specified filename.  Test this function by getting the lyrics to any four songs of your choice and storing them in different files."
   ]
  },
  {
   "cell_type": "code",
   "execution_count": null,
   "metadata": {},
   "outputs": [],
   "source": [
    "import os\n",
    "import requests\n",
    "import json\n",
    "\n",
    "def get_lyrics(artist, song, filename):\n",
    "    # Skip API call if file already exists\n",
    "    if os.path.exists(filename):\n",
    "        print(f\"{filename} already exists. Skipping API call.\")\n",
    "        return\n",
    "    url = f'https://api.lyrics.ovh/v1/{artist}/{song}'\n",
    "    try:\n",
    "        response = requests.get(url, timeout=10)\n",
    "        if response.status_code == 200:\n",
    "            result = response.json()\n",
    "            with open(filename, 'w', encoding='utf-8') as file:\n",
    "                json.dump(result, file)\n",
    "            print(f\"Lyrics saved to {filename}\")\n",
    "        else:\n",
    "            print(f\"Failed to fetch {artist} - {song}: Status code {response.status_code}\")\n",
    "    except requests.exceptions.Timeout:\n",
    "        print(f\"Request for {artist} - {song} timed out.\")\n",
    "    except requests.exceptions.RequestException as e:\n",
    "        print(f\"Request error for {artist} - {song}: {e}\")\n",
    "\n",
    "# Example usage\n",
    "get_lyrics('The Beatles', 'Hey Jude', 'hey_jude.json')\n",
    "get_lyrics('Ed Sheeran', 'Shape of You', 'shape_of_you.json')\n",
    "get_lyrics('George Strait', 'Amarillo By Morning', 'amarillo_by_morning.json')\n",
    "get_lyrics('Eagles', 'Hotel California', 'hotel_california.json')\n",
    "\n"
   ]
  },
  {
   "cell_type": "markdown",
   "metadata": {},
   "source": [
    "#### Question 4. Write a function that takes the name of a file that contains song lyrics, loads the file, performs sentiment analysis, and returns the polarity score.  Use this function to print the polarity scores (with the name of the song) of the three files you created in question 3.  Does the reported polarity match your understanding of the song's lyrics? Why or why not do you think that might be?  Answer the questions in either a comment in the code cell or a markdown cell under the code cell."
   ]
  },
  {
   "cell_type": "code",
   "execution_count": null,
   "metadata": {},
   "outputs": [],
   "source": []
  }
 ],
 "metadata": {
  "kernelspec": {
   "display_name": ".venv",
   "language": "python",
   "name": "python3"
  },
  "language_info": {
   "codemirror_mode": {
    "name": "ipython",
    "version": 3
   },
   "file_extension": ".py",
   "mimetype": "text/x-python",
   "name": "python",
   "nbconvert_exporter": "python",
   "pygments_lexer": "ipython3",
   "version": "3.13.2"
  }
 },
 "nbformat": 4,
 "nbformat_minor": 4
}
